{
 "cells": [
  {
   "cell_type": "markdown",
   "metadata": {},
   "source": [
    "# Collaborative Filtering with Python (Python 2.7)\n",
    "[Originate from Salem Marafi](http://www.salemmarafi.com/code/collaborative-filtering-with-python/)"
   ]
  },
  {
   "cell_type": "markdown",
   "metadata": {},
   "source": [
    "<img src=\"pic/collaborativeFiltering.jpg\", width=\"700\" height=\"900\">"
   ]
  },
  {
   "cell_type": "markdown",
   "metadata": {},
   "source": [
    "## The Last.FM dataset"
   ]
  },
  {
   "cell_type": "markdown",
   "metadata": {},
   "source": [
    "The [data set](http://www.salemmarafi.com/wp-content/uploads/2014/04/lastfm-matrix-germany.csv) contains information about users, gender, age, and which artists they have listened to on Last.FM.\n",
    "In our case we only use Germany’s data and transform the data into a frequency matrix.\n",
    "\n",
    "We will use this to complete 2 types of collaborative filtering:\n",
    "\n",
    "* Item Based: which takes similarities between items’ consumption histories\n",
    "\n",
    "* User Based: that considers similarities between user consumption histories and item similarities"
   ]
  },
  {
   "cell_type": "code",
   "execution_count": 5,
   "metadata": {
    "collapsed": false
   },
   "outputs": [
    {
     "data": {
      "text/html": [
       "<div>\n",
       "<table border=\"1\" class=\"dataframe\">\n",
       "  <thead>\n",
       "    <tr style=\"text-align: right;\">\n",
       "      <th></th>\n",
       "      <th>abba</th>\n",
       "      <th>ac/dc</th>\n",
       "      <th>adam green</th>\n",
       "      <th>aerosmith</th>\n",
       "      <th>afi</th>\n",
       "      <th>air</th>\n",
       "      <th>alanis morissette</th>\n",
       "      <th>alexisonfire</th>\n",
       "    </tr>\n",
       "  </thead>\n",
       "  <tbody>\n",
       "    <tr>\n",
       "      <th>0</th>\n",
       "      <td>0</td>\n",
       "      <td>0</td>\n",
       "      <td>0</td>\n",
       "      <td>0</td>\n",
       "      <td>0</td>\n",
       "      <td>0</td>\n",
       "      <td>0</td>\n",
       "      <td>0</td>\n",
       "    </tr>\n",
       "    <tr>\n",
       "      <th>1</th>\n",
       "      <td>0</td>\n",
       "      <td>0</td>\n",
       "      <td>1</td>\n",
       "      <td>0</td>\n",
       "      <td>0</td>\n",
       "      <td>0</td>\n",
       "      <td>0</td>\n",
       "      <td>0</td>\n",
       "    </tr>\n",
       "    <tr>\n",
       "      <th>2</th>\n",
       "      <td>0</td>\n",
       "      <td>0</td>\n",
       "      <td>0</td>\n",
       "      <td>0</td>\n",
       "      <td>0</td>\n",
       "      <td>0</td>\n",
       "      <td>0</td>\n",
       "      <td>0</td>\n",
       "    </tr>\n",
       "    <tr>\n",
       "      <th>3</th>\n",
       "      <td>0</td>\n",
       "      <td>0</td>\n",
       "      <td>0</td>\n",
       "      <td>0</td>\n",
       "      <td>0</td>\n",
       "      <td>0</td>\n",
       "      <td>0</td>\n",
       "      <td>0</td>\n",
       "    </tr>\n",
       "    <tr>\n",
       "      <th>4</th>\n",
       "      <td>0</td>\n",
       "      <td>0</td>\n",
       "      <td>0</td>\n",
       "      <td>0</td>\n",
       "      <td>0</td>\n",
       "      <td>0</td>\n",
       "      <td>0</td>\n",
       "      <td>0</td>\n",
       "    </tr>\n",
       "    <tr>\n",
       "      <th>5</th>\n",
       "      <td>0</td>\n",
       "      <td>0</td>\n",
       "      <td>0</td>\n",
       "      <td>0</td>\n",
       "      <td>0</td>\n",
       "      <td>0</td>\n",
       "      <td>0</td>\n",
       "      <td>1</td>\n",
       "    </tr>\n",
       "  </tbody>\n",
       "</table>\n",
       "</div>"
      ],
      "text/plain": [
       "   abba  ac/dc  adam green  aerosmith  afi  air  alanis morissette  \\\n",
       "0     0      0           0          0    0    0                  0   \n",
       "1     0      0           1          0    0    0                  0   \n",
       "2     0      0           0          0    0    0                  0   \n",
       "3     0      0           0          0    0    0                  0   \n",
       "4     0      0           0          0    0    0                  0   \n",
       "5     0      0           0          0    0    0                  0   \n",
       "\n",
       "   alexisonfire  \n",
       "0             0  \n",
       "1             0  \n",
       "2             0  \n",
       "3             0  \n",
       "4             0  \n",
       "5             1  "
      ]
     },
     "execution_count": 5,
     "metadata": {},
     "output_type": "execute_result"
    }
   ],
   "source": [
    "import pandas as pd\n",
    "from scipy.spatial.distance import cosine\n",
    "\n",
    "# Data was already dlownloaded.\n",
    "data = pd.read_csv('data/lastfm/lastfm-matrix-germany.csv')\n",
    "\n",
    "# check out the data set you can do so using data.head():\n",
    "data.head(6).ix[:,2:10]"
   ]
  },
  {
   "cell_type": "markdown",
   "metadata": {
    "collapsed": false
   },
   "source": [
    "## Item Based Collaborative Filtering"
   ]
  },
  {
   "cell_type": "code",
   "execution_count": 6,
   "metadata": {
    "collapsed": true
   },
   "outputs": [],
   "source": [
    "#In item based collaborative filtering we do not care about the user column.\n",
    "data_germany = data.drop('user', 1)"
   ]
  },
  {
   "cell_type": "code",
   "execution_count": 7,
   "metadata": {
    "collapsed": true
   },
   "outputs": [],
   "source": [
    "#Create a placeholder dataframe listing item vs. item\n",
    "data_ibs = pd.DataFrame(index=data_germany.columns, columns=data_germany.columns)"
   ]
  },
  {
   "cell_type": "markdown",
   "metadata": {},
   "source": [
    "Now we can start to look at filling in similarities. We will use Cosin Similarities. In Python, the Scipy library has a function that allows us to do this without customization.\n",
    "\n",
    "In essense the cosine similarity takes the sum product of the first and second column, then dives that by the product of the square root of the sum of squares of each column."
   ]
  },
  {
   "cell_type": "code",
   "execution_count": 8,
   "metadata": {
    "collapsed": true
   },
   "outputs": [],
   "source": [
    "# Lets fill in those empty spaces with cosine similarities\n",
    "# Loop through the columns\n",
    "\n",
    "for i in range(0, len(data_ibs.columns)) :\n",
    "    # Loop through the columns for each column\n",
    "\n",
    "    for j in range(0,len(data_ibs.columns)) :\n",
    "        # Fill in placeholder with cosine similarities\n",
    "        \n",
    "        data_ibs.ix[i,j] = 1 - cosine(data_germany.ix[:,i], data_germany.ix[:,j])"
   ]
  },
  {
   "cell_type": "code",
   "execution_count": 10,
   "metadata": {
    "collapsed": false
   },
   "outputs": [
    {
     "name": "stderr",
     "output_type": "stream",
     "text": [
      "/Users/xiaoweiyang/py27/lib/python2.7/site-packages/ipykernel_launcher.py:6: FutureWarning: order is deprecated, use sort_values(...)\n",
      "  \n"
     ]
    }
   ],
   "source": [
    "# Create a placeholder items for closes neighbours to an item\n",
    "data_neighbours = pd.DataFrame(index=data_ibs.columns,columns=range(1,11))\n",
    " \n",
    "# Loop through our similarity dataframe and fill in neighbouring item names\n",
    "for i in range(0,len(data_ibs.columns)):\n",
    "    data_neighbours.ix[i,:10] = data_ibs.ix[0:,i].order(ascending=False)[:10].index\n",
    " \n",
    "# --- End Item Based Recommendations --- #"
   ]
  },
  {
   "cell_type": "markdown",
   "metadata": {},
   "source": [
    "With our similarity matrix filled out we can look for each items “neighbour” by looping through ‘data_ibs’, sorting each column in descending order, and grabbing the name of each of the top 10 songs."
   ]
  },
  {
   "cell_type": "code",
   "execution_count": 10,
   "metadata": {
    "collapsed": false
   },
   "outputs": [
    {
     "name": "stderr",
     "output_type": "stream",
     "text": [
      "/Users/xiaoweiyang/py27/lib/python2.7/site-packages/ipykernel_launcher.py:6: FutureWarning: order is deprecated, use sort_values(...)\n",
      "  \n"
     ]
    }
   ],
   "source": [
    "# Create a placeholder items for closes neighbours to an item\n",
    "data_neighbours = pd.DataFrame(index=data_ibs.columns, columns=range(1,11))\n",
    " \n",
    "# Loop through our similarity dataframe and fill in neighbouring item names\n",
    "for i in range(0,len(data_ibs.columns)):\n",
    "    data_neighbours.ix[i,:10] = data_ibs.ix[0:,i].order(ascending=False)[:10].index"
   ]
  },
  {
   "cell_type": "code",
   "execution_count": null,
   "metadata": {
    "collapsed": true
   },
   "outputs": [],
   "source": [
    "Show the results!  "
   ]
  },
  {
   "cell_type": "code",
   "execution_count": 21,
   "metadata": {
    "collapsed": false
   },
   "outputs": [
    {
     "data": {
      "text/html": [
       "<div>\n",
       "<table border=\"1\" class=\"dataframe\">\n",
       "  <thead>\n",
       "    <tr style=\"text-align: right;\">\n",
       "      <th></th>\n",
       "      <th>1</th>\n",
       "      <th>2</th>\n",
       "      <th>3</th>\n",
       "      <th>4</th>\n",
       "      <th>5</th>\n",
       "    </tr>\n",
       "  </thead>\n",
       "  <tbody>\n",
       "    <tr>\n",
       "      <th>a perfect circle</th>\n",
       "      <td>a perfect circle</td>\n",
       "      <td>tool</td>\n",
       "      <td>dredg</td>\n",
       "      <td>deftones</td>\n",
       "      <td>porcupine tree</td>\n",
       "    </tr>\n",
       "    <tr>\n",
       "      <th>abba</th>\n",
       "      <td>abba</td>\n",
       "      <td>madonna</td>\n",
       "      <td>robbie williams</td>\n",
       "      <td>elvis presley</td>\n",
       "      <td>michael jackson</td>\n",
       "    </tr>\n",
       "    <tr>\n",
       "      <th>ac/dc</th>\n",
       "      <td>ac/dc</td>\n",
       "      <td>red hot chili peppers</td>\n",
       "      <td>metallica</td>\n",
       "      <td>iron maiden</td>\n",
       "      <td>the offspring</td>\n",
       "    </tr>\n",
       "    <tr>\n",
       "      <th>adam green</th>\n",
       "      <td>adam green</td>\n",
       "      <td>the libertines</td>\n",
       "      <td>the strokes</td>\n",
       "      <td>babyshambles</td>\n",
       "      <td>radiohead</td>\n",
       "    </tr>\n",
       "    <tr>\n",
       "      <th>aerosmith</th>\n",
       "      <td>aerosmith</td>\n",
       "      <td>u2</td>\n",
       "      <td>led zeppelin</td>\n",
       "      <td>metallica</td>\n",
       "      <td>ac/dc</td>\n",
       "    </tr>\n",
       "    <tr>\n",
       "      <th>afi</th>\n",
       "      <td>afi</td>\n",
       "      <td>funeral for a friend</td>\n",
       "      <td>rise against</td>\n",
       "      <td>fall out boy</td>\n",
       "      <td>anti-flag</td>\n",
       "    </tr>\n",
       "    <tr>\n",
       "      <th>air</th>\n",
       "      <td>air</td>\n",
       "      <td>massive attack</td>\n",
       "      <td>goldfrapp</td>\n",
       "      <td>morcheeba</td>\n",
       "      <td>thievery corporation</td>\n",
       "    </tr>\n",
       "    <tr>\n",
       "      <th>alanis morissette</th>\n",
       "      <td>alanis morissette</td>\n",
       "      <td>tori amos</td>\n",
       "      <td>alicia keys</td>\n",
       "      <td>red hot chili peppers</td>\n",
       "      <td>kelly clarkson</td>\n",
       "    </tr>\n",
       "    <tr>\n",
       "      <th>alexisonfire</th>\n",
       "      <td>alexisonfire</td>\n",
       "      <td>atreyu</td>\n",
       "      <td>underoath</td>\n",
       "      <td>funeral for a friend</td>\n",
       "      <td>silverstein</td>\n",
       "    </tr>\n",
       "    <tr>\n",
       "      <th>alicia keys</th>\n",
       "      <td>alicia keys</td>\n",
       "      <td>beyonce</td>\n",
       "      <td>norah jones</td>\n",
       "      <td>maria mena</td>\n",
       "      <td>black eyed peas</td>\n",
       "    </tr>\n",
       "  </tbody>\n",
       "</table>\n",
       "</div>"
      ],
      "text/plain": [
       "                                   1                      2                3  \\\n",
       "a perfect circle    a perfect circle                   tool            dredg   \n",
       "abba                            abba                madonna  robbie williams   \n",
       "ac/dc                          ac/dc  red hot chili peppers        metallica   \n",
       "adam green                adam green         the libertines      the strokes   \n",
       "aerosmith                  aerosmith                     u2     led zeppelin   \n",
       "afi                              afi   funeral for a friend     rise against   \n",
       "air                              air         massive attack        goldfrapp   \n",
       "alanis morissette  alanis morissette              tori amos      alicia keys   \n",
       "alexisonfire            alexisonfire                 atreyu        underoath   \n",
       "alicia keys              alicia keys                beyonce      norah jones   \n",
       "\n",
       "                                       4                     5  \n",
       "a perfect circle                deftones        porcupine tree  \n",
       "abba                       elvis presley       michael jackson  \n",
       "ac/dc                        iron maiden         the offspring  \n",
       "adam green                  babyshambles             radiohead  \n",
       "aerosmith                      metallica                 ac/dc  \n",
       "afi                         fall out boy             anti-flag  \n",
       "air                            morcheeba  thievery corporation  \n",
       "alanis morissette  red hot chili peppers        kelly clarkson  \n",
       "alexisonfire        funeral for a friend           silverstein  \n",
       "alicia keys                   maria mena       black eyed peas  "
      ]
     },
     "execution_count": 21,
     "metadata": {},
     "output_type": "execute_result"
    }
   ],
   "source": [
    "data_neighbours.ix[:10, :5]"
   ]
  },
  {
   "cell_type": "markdown",
   "metadata": {
    "collapsed": true
   },
   "source": [
    "## User Based collaborative Filtering"
   ]
  },
  {
   "cell_type": "markdown",
   "metadata": {},
   "source": [
    "The process for creating a User Based recommendation system:\n",
    "\n",
    "* Have an Item Based similarity matrix at your disposal (DONE)\n",
    "\n",
    "* Check which items the user has consumed (listened or purchased): if consumed, then we do not recommend. \n",
    "\n",
    "* Otherwise, \n",
    "\n",
    " * Find the top N neighbours for the current song\n",
    " * Get the consumption record (#listen) of the user for each neighbour.\n",
    " * Using similarity scores as weight to average the consumption records.  \n",
    "\n",
    "* Recommend the songs with the highest score (i.e., weighted average of consumptions)\n",
    "\n",
    "We first need a formula. We first calcuate the inner product of two vectors (the one containing purchase history; and the one containing similarity scores to the current song), then divide that figure by the sum of the similarities in the respective vector."
   ]
  },
  {
   "cell_type": "code",
   "execution_count": 60,
   "metadata": {
    "collapsed": true
   },
   "outputs": [],
   "source": [
    "# Helper function to get similarity scores\n",
    "def getScore(history, similarities):\n",
    "   return sum(history * similarities) / sum(similarities)"
   ]
  },
  {
   "cell_type": "markdown",
   "metadata": {
    "collapsed": true
   },
   "source": [
    "The rest is a matter of applying this function to the data frames in the right way.\n",
    "We start by creating a variable to hold our similarity data.\n",
    "This is basically the same as our original data but with nothing filled in except the headers."
   ]
  },
  {
   "cell_type": "code",
   "execution_count": 61,
   "metadata": {
    "collapsed": true
   },
   "outputs": [],
   "source": [
    "# Create a place holder matrix for similarities, and fill in the user name column\n",
    "data_sims = pd.DataFrame(index=data.index,columns=data.columns)\n",
    "data_sims.ix[:,:1] = data.ix[:,:1]"
   ]
  },
  {
   "cell_type": "code",
   "execution_count": 63,
   "metadata": {
    "collapsed": false
   },
   "outputs": [
    {
     "data": {
      "text/html": [
       "<div>\n",
       "<table border=\"1\" class=\"dataframe\">\n",
       "  <thead>\n",
       "    <tr style=\"text-align: right;\">\n",
       "      <th></th>\n",
       "      <th>user</th>\n",
       "      <th>a perfect circle</th>\n",
       "      <th>abba</th>\n",
       "      <th>ac/dc</th>\n",
       "      <th>adam green</th>\n",
       "      <th>aerosmith</th>\n",
       "      <th>afi</th>\n",
       "      <th>air</th>\n",
       "      <th>alanis morissette</th>\n",
       "      <th>alexisonfire</th>\n",
       "    </tr>\n",
       "  </thead>\n",
       "  <tbody>\n",
       "    <tr>\n",
       "      <th>0</th>\n",
       "      <td>1</td>\n",
       "      <td>NaN</td>\n",
       "      <td>NaN</td>\n",
       "      <td>NaN</td>\n",
       "      <td>NaN</td>\n",
       "      <td>NaN</td>\n",
       "      <td>NaN</td>\n",
       "      <td>NaN</td>\n",
       "      <td>NaN</td>\n",
       "      <td>NaN</td>\n",
       "    </tr>\n",
       "    <tr>\n",
       "      <th>1</th>\n",
       "      <td>33</td>\n",
       "      <td>NaN</td>\n",
       "      <td>NaN</td>\n",
       "      <td>NaN</td>\n",
       "      <td>NaN</td>\n",
       "      <td>NaN</td>\n",
       "      <td>NaN</td>\n",
       "      <td>NaN</td>\n",
       "      <td>NaN</td>\n",
       "      <td>NaN</td>\n",
       "    </tr>\n",
       "    <tr>\n",
       "      <th>2</th>\n",
       "      <td>42</td>\n",
       "      <td>NaN</td>\n",
       "      <td>NaN</td>\n",
       "      <td>NaN</td>\n",
       "      <td>NaN</td>\n",
       "      <td>NaN</td>\n",
       "      <td>NaN</td>\n",
       "      <td>NaN</td>\n",
       "      <td>NaN</td>\n",
       "      <td>NaN</td>\n",
       "    </tr>\n",
       "  </tbody>\n",
       "</table>\n",
       "</div>"
      ],
      "text/plain": [
       "  user a perfect circle abba ac/dc adam green aerosmith  afi  air  \\\n",
       "0    1              NaN  NaN   NaN        NaN       NaN  NaN  NaN   \n",
       "1   33              NaN  NaN   NaN        NaN       NaN  NaN  NaN   \n",
       "2   42              NaN  NaN   NaN        NaN       NaN  NaN  NaN   \n",
       "\n",
       "  alanis morissette alexisonfire  \n",
       "0               NaN          NaN  \n",
       "1               NaN          NaN  \n",
       "2               NaN          NaN  "
      ]
     },
     "execution_count": 63,
     "metadata": {},
     "output_type": "execute_result"
    }
   ],
   "source": [
    "data_sims.head(3).ix[:, :10]"
   ]
  },
  {
   "cell_type": "markdown",
   "metadata": {},
   "source": [
    "We now loop through the rows and columns filling in empty spaces with similarity scores.\n",
    "\n",
    "Note that we score items that the user has already consumed as 0, because there is no point recommending it again."
   ]
  },
  {
   "cell_type": "code",
   "execution_count": 64,
   "metadata": {
    "collapsed": false
   },
   "outputs": [
    {
     "name": "stderr",
     "output_type": "stream",
     "text": [
      "/Users/xiaoweiyang/py27/lib/python2.7/site-packages/ipykernel_launcher.py:11: FutureWarning: order is deprecated, use sort_values(...)\n",
      "  # This is added back by InteractiveShellApp.init_path()\n"
     ]
    }
   ],
   "source": [
    "#Loop through all rows, skip the user column, and fill with similarity scores\n",
    "for i in range(0, len(data_sims.index)):\n",
    "    for j in range(1,len(data_sims.columns)):\n",
    "        user = data_sims.index[i]\n",
    "        product = data_sims.columns[j]\n",
    " \n",
    "        if data.ix[i][j] == 1:\n",
    "            data_sims.ix[i][j] = 0\n",
    "        else:\n",
    "            product_top_names = data_neighbours.ix[product][1:10]\n",
    "            product_top_sims = data_ibs.ix[product].order(ascending=False)[1:10]\n",
    "            user_purchases = data_germany.ix[user, product_top_names]\n",
    "            data_sims.ix[i][j] = getScore(user_purchases, product_top_sims)"
   ]
  },
  {
   "cell_type": "markdown",
   "metadata": {},
   "source": [
    "We can now produc a matrix of User Based recommendations as follows:"
   ]
  },
  {
   "cell_type": "code",
   "execution_count": 68,
   "metadata": {
    "collapsed": true
   },
   "outputs": [],
   "source": [
    "# Get the top songs\n",
    "data_recommend = pd.DataFrame(index=data_sims.index, columns=['user','1','2','3','4','5','6'])\n",
    "data_recommend.ix[0:,0] = data_sims.ix[:,0]"
   ]
  },
  {
   "cell_type": "markdown",
   "metadata": {},
   "source": [
    "Instead of having the matrix filled with similarity scores, however, it would be nice to see the song names.\n",
    "This can be done with the following loop:"
   ]
  },
  {
   "cell_type": "code",
   "execution_count": 69,
   "metadata": {
    "collapsed": false
   },
   "outputs": [
    {
     "name": "stderr",
     "output_type": "stream",
     "text": [
      "/Users/xiaoweiyang/py27/lib/python2.7/site-packages/ipykernel_launcher.py:3: FutureWarning: order is deprecated, use sort_values(...)\n",
      "  This is separate from the ipykernel package so we can avoid doing imports until\n"
     ]
    }
   ],
   "source": [
    "# Instead of top song scores, we want to see names\n",
    "for i in range(0,len(data_sims.index)):\n",
    "    data_recommend.ix[i,1:] = data_sims.ix[i,:].order(ascending=False).ix[1:7,].index.transpose()"
   ]
  },
  {
   "cell_type": "code",
   "execution_count": 70,
   "metadata": {
    "collapsed": false
   },
   "outputs": [
    {
     "name": "stdout",
     "output_type": "stream",
     "text": [
      "  user                      1              2                3              4\n",
      "0    1         flogging molly       coldplay        aerosmith    the beatles\n",
      "1   33  red hot chili peppers  kings of leon        peter fox      gentleman\n",
      "2   42                 oomph!    lacuna coil        rammstein     schandmaul\n",
      "3   51            the subways      the kooks  franz ferdinand      the hives\n",
      "4   62           jack johnson        incubus       mando diao  the fratellis\n"
     ]
    }
   ],
   "source": [
    "# Print a sample\n",
    "print data_recommend.ix[:4,:5]"
   ]
  },
  {
   "cell_type": "code",
   "execution_count": null,
   "metadata": {
    "collapsed": true
   },
   "outputs": [],
   "source": []
  }
 ],
 "metadata": {
  "kernelspec": {
   "display_name": "Python 2",
   "language": "python",
   "name": "python2"
  },
  "language_info": {
   "codemirror_mode": {
    "name": "ipython",
    "version": 2
   },
   "file_extension": ".py",
   "mimetype": "text/x-python",
   "name": "python",
   "nbconvert_exporter": "python",
   "pygments_lexer": "ipython2",
   "version": "2.7.10"
  }
 },
 "nbformat": 4,
 "nbformat_minor": 2
}
